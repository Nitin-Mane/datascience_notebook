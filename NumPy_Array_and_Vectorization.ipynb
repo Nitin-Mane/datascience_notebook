{
 "cells": [
  {
   "cell_type": "markdown",
   "id": "04f926d3-e618-4c53-909c-d7439dfef8a0",
   "metadata": {},
   "source": [
    "# NumPy Array and Vectorization"
   ]
  },
  {
   "cell_type": "code",
   "execution_count": 1,
   "id": "f5db8afe-2ed5-44e5-b60a-10a83cd1d269",
   "metadata": {},
   "outputs": [
    {
     "name": "stdout",
     "output_type": "stream",
     "text": [
      "<class 'list'>\n"
     ]
    }
   ],
   "source": [
    "# convention for importing numpy\n",
    "import numpy as np \n",
    "\n",
    "arr = [6, 7, 8 , 9] \n",
    "print(type(arr)) # prints <class 'list'> "
   ]
  },
  {
   "cell_type": "code",
   "execution_count": 4,
   "id": "c5c29ecf-67bb-4681-9f12-49f886999ff2",
   "metadata": {},
   "outputs": [
    {
     "name": "stdout",
     "output_type": "stream",
     "text": [
      "<class 'numpy.ndarray'>\n",
      "(4,)\n",
      "int32\n",
      "1\n"
     ]
    }
   ],
   "source": [
    "a = np.array(arr) \n",
    "print(type(a)) # print <class ' numpy.ndarray'> \n",
    "print(a.shape) # prints (4,) - a is a 1d array with 4 items\n",
    "print(a.dtype) #prints int64 \n",
    "\n",
    "#get the dimension of a with ndim \n",
    "print(a.ndim) "
   ]
  },
  {
   "cell_type": "code",
   "execution_count": 8,
   "id": "6006496d-fcda-424d-a4fc-194f3c72321d",
   "metadata": {},
   "outputs": [
    {
     "name": "stdout",
     "output_type": "stream",
     "text": [
      "[[1 2 3]\n",
      " [4 5 6]]\n",
      "2\n"
     ]
    }
   ],
   "source": [
    "b = np.array([[1,2,3], [4,5,6]]) \n",
    "print(b) # prints [[1 2 3]\n",
    "         ##        [4 5 6]]\n",
    "print(b.ndim) #prints (2,3) - b a 2d array with 2 rows and 3 columns "
   ]
  },
  {
   "cell_type": "code",
   "execution_count": 11,
   "id": "9cb6a484-4c8c-4497-a43c-a41f783e156f",
   "metadata": {},
   "outputs": [
    {
     "name": "stdout",
     "output_type": "stream",
     "text": [
      "<class 'list'>\n",
      "<class 'numpy.ndarray'>\n",
      "(4,)\n",
      "int32\n",
      "1\n",
      "[[1 2 3]\n",
      " [4 5 6]]\n",
      "2\n"
     ]
    }
   ],
   "source": [
    "import numpy as np \n",
    "\n",
    "arr = [6, 7, 8 , 9] \n",
    "print(type(arr)) # prints <class 'list'> \n",
    "\n",
    "a = np.array(arr)\n",
    "print(type(a)) # prints <class 'numpy.ndarray'> \n",
    "print(a.shape) # prints (4,) - a is a 1d array with 4 items\n",
    "print(a.dtype) #prints int64 \n",
    "\n",
    "#get the dimension of a with ndim \n",
    "print(a.ndim) \n",
    "\n",
    "b = np.array([[1,2,3], [4,5,6]]) \n",
    "print(b) # prints [[1 2 3]\n",
    "         ##        [4 5 6]]\n",
    "print(b.ndim) #prints (2,3) - b a 2d array with 2 rows and 3 columns "
   ]
  },
  {
   "cell_type": "code",
   "execution_count": 14,
   "id": "ec61c743-21fd-468d-8fb1-c9698b71bc8f",
   "metadata": {},
   "outputs": [
    {
     "data": {
      "text/plain": [
       "array([[1., 0., 0.],\n",
       "       [0., 1., 0.],\n",
       "       [0., 0., 1.]])"
      ]
     },
     "execution_count": 14,
     "metadata": {},
     "output_type": "execute_result"
    }
   ],
   "source": [
    "# a 2x3 array with random values \n",
    "np.random.random((2,3))\n",
    "\n",
    "# a 2x3 array of zeros \n",
    "np.zeros((2,3))\n",
    "\n",
    "# a 2x3 array of ones \n",
    "np.ones((2,3)) \n",
    "\n",
    "# a 3x3 identity matrix \n",
    "np.identity(3) "
   ]
  },
  {
   "cell_type": "code",
   "execution_count": 16,
   "id": "7b46a006-4817-49d1-a6bd-6b6a381f6792",
   "metadata": {},
   "outputs": [],
   "source": [
    "import numpy as np\n",
    "\n",
    "c = np.array([[9.0, 8.0, 7.0], [1.0, 2.0, 3.0]])\n",
    "d = np.array([[4.0, 5.0, 6.0], [9.0, 8.0, 7.0]])\n",
    "\n",
    "c + d = array([[13., 13., 13.],\n",
    "               [10., 10., 10.]])\n",
    "\n",
    "c * d = array([[36., 40., 42.],\n",
    "               [9., 16., 21.]])\n",
    "\n",
    "5 / d = array([[1.25      , 1.        , 0.83333333],\n",
    "               [0.55555556, 0.625     , 0.71428571]])\n",
    "\n",
    "c ** 2 = array([[81., 64., 49.],\n",
    "                [1., 4., 9.]])\n",
    "\n"
   ]
  },
  {
   "cell_type": "code",
   "execution_count": 24,
   "id": "0a65ac81-72f5-42c4-991d-7a6d6fbfd8a2",
   "metadata": {},
   "outputs": [],
   "source": [
    "a[0] = 6\n",
    "a[3] = 9 \n",
    "b[0, 0] = 1\n",
    "b[1, 2] = 6 \n",
    "c[0, 1] = 8\n"
   ]
  },
  {
   "cell_type": "code",
   "execution_count": 23,
   "id": "db47c0e7-823e-4351-b23b-5e8f1e07c0c0",
   "metadata": {},
   "outputs": [
    {
     "name": "stdout",
     "output_type": "stream",
     "text": [
      "c + d =\n",
      " [[13. 13. 13.]\n",
      " [10. 10. 10.]]\n",
      "c * d =\n",
      " [[36. 40. 42.]\n",
      " [ 9. 16. 21.]]\n",
      "5 / d =\n",
      " [[1.25       1.         0.83333333]\n",
      " [0.55555556 0.625      0.71428571]]\n",
      "c ** 2 =\n",
      " [[81. 64. 49.]\n",
      " [ 1.  4.  9.]]\n"
     ]
    }
   ],
   "source": [
    "import numpy as np\n",
    "\n",
    "c = np.array([[9.0, 8.0, 7.0], [1.0, 2.0, 3.0]])\n",
    "d = np.array([[4.0, 5.0, 6.0], [9.0, 8.0, 7.0]])\n",
    "\n",
    "sum_cd = c + d\n",
    "product_cd = c * d\n",
    "division_5d = 5 / d\n",
    "power_c2 = c ** 2\n",
    "\n",
    "# Now if you want to print the results, you can do so by using the print function:\n",
    "print(\"c + d =\\n\", sum_cd)\n",
    "print(\"c * d =\\n\", product_cd)\n",
    "print(\"5 / d =\\n\", division_5d)\n",
    "print(\"c ** 2 =\\n\", power_c2)\n"
   ]
  },
  {
   "cell_type": "code",
   "execution_count": 25,
   "id": "de1337db-176a-4c94-bae4-e60008d3536c",
   "metadata": {},
   "outputs": [
    {
     "name": "stdout",
     "output_type": "stream",
     "text": [
      "Sliced e =\n",
      " [[10 11]\n",
      " [13 14]\n",
      " [16 17]]\n"
     ]
    }
   ],
   "source": [
    "import numpy as np\n",
    "\n",
    "# Assuming d is already defined somewhere above this line and has at least two rows and two columns.\n",
    "# d[1, 0:2] = np.array([9., 8.])\n",
    "\n",
    "# Correct way to define e and perform slicing\n",
    "e = np.array([[10, 11, 12], [13, 14, 15], [16, 17, 18], [19, 20, 21]])\n",
    "\n",
    "# Correct slicing\n",
    "sliced_e = e[:3, :2]\n",
    "\n",
    "# Printing sliced array\n",
    "print(\"Sliced e =\\n\", sliced_e)\n"
   ]
  },
  {
   "cell_type": "code",
   "execution_count": 26,
   "id": "bfdfa445-826d-41f0-9dc1-56f6b00f5dc3",
   "metadata": {},
   "outputs": [
    {
     "name": "stdout",
     "output_type": "stream",
     "text": [
      "Integer indexed e =\n",
      " [18 11 19 15]\n",
      "Boolean indexed e (values greater than 15) =\n",
      " [16 17 18 19 20 21]\n"
     ]
    }
   ],
   "source": [
    "import numpy as np\n",
    "\n",
    "# Assuming 'e' is a previously defined numpy array of appropriate shape.\n",
    "# Integer indexing example\n",
    "# The indices must be provided in lists or arrays for each dimension.\n",
    "integer_indexed = e[[2, 0, 3, 1], [2, 1, 0, 2]]\n",
    "\n",
    "# Boolean indexing example\n",
    "# The condition generates a boolean array that is then used to index the 'e' array.\n",
    "boolean_indexed = e[e > 15]\n",
    "\n",
    "# Printing results\n",
    "print(\"Integer indexed e =\\n\", integer_indexed)\n",
    "print(\"Boolean indexed e (values greater than 15) =\\n\", boolean_indexed)\n"
   ]
  },
  {
   "cell_type": "code",
   "execution_count": 27,
   "id": "874d1725-b8f7-4296-953c-b370559fd593",
   "metadata": {},
   "outputs": [
    {
     "name": "stdout",
     "output_type": "stream",
     "text": [
      "Sum of a: 15\n",
      "Mean of a: 3.0\n",
      "Standard deviation of a: 1.4142135623730951\n",
      "Minimum of a: 1\n",
      "Correlation coefficient matrix of c:\n",
      "[[1. 1.]\n",
      " [1. 1.]]\n"
     ]
    }
   ],
   "source": [
    "import numpy as np\n",
    "\n",
    "# Example arrays for demonstration\n",
    "a = np.array([1, 2, 3, 4, 5])\n",
    "b = np.array([5, 4, 3, 2, 1])\n",
    "\n",
    "# Mathematical functions\n",
    "sum_a = np.sum(a)\n",
    "mean_a = np.mean(a)\n",
    "std_a = np.std(a)\n",
    "min_a = np.min(a)\n",
    "\n",
    "# You would need a 2D array for correlation coefficient\n",
    "# For example purposes, let's create a simple 2D array\n",
    "c = np.array([[1, 2, 3], [5, 6, 7]])\n",
    "corrcoef_c = np.corrcoef(c)\n",
    "\n",
    "print(\"Sum of a:\", sum_a)\n",
    "print(\"Mean of a:\", mean_a)\n",
    "print(\"Standard deviation of a:\", std_a)\n",
    "print(\"Minimum of a:\", min_a)\n",
    "print(\"Correlation coefficient matrix of c:\")\n",
    "print(corrcoef_c)"
   ]
  },
  {
   "cell_type": "code",
   "execution_count": 28,
   "id": "014673eb-b6a3-4120-879a-7bfd7c23c4fb",
   "metadata": {},
   "outputs": [
    {
     "name": "stdout",
     "output_type": "stream",
     "text": [
      "Arrays equal: [False False  True False False]\n",
      "Elements in a greater than b: [False False False  True  True]\n",
      "Elements in a less than b: [ True  True False False False]\n"
     ]
    }
   ],
   "source": [
    "# Comparing arrays\n",
    "are_equal = a == b\n",
    "greater_than = a > b\n",
    "less_than = a < b\n",
    "\n",
    "print(\"Arrays equal:\", are_equal)\n",
    "print(\"Elements in a greater than b:\", greater_than)\n",
    "print(\"Elements in a less than b:\", less_than)"
   ]
  },
  {
   "cell_type": "code",
   "execution_count": 29,
   "id": "93e5d556-a59f-4a34-950c-07180bf358a9",
   "metadata": {},
   "outputs": [
    {
     "name": "stdout",
     "output_type": "stream",
     "text": [
      "Loaded array a from .npy file: [1 2 3 4 5]\n"
     ]
    }
   ],
   "source": [
    "# File Input and Output\n",
    "# Saving array 'a' to a binary .npy file\n",
    "np.save('array_a.npy', a)\n",
    "\n",
    "# Loading the array from the .npy file\n",
    "loaded_a = np.load('array_a.npy')\n",
    "print(\"Loaded array a from .npy file:\", loaded_a)"
   ]
  },
  {
   "cell_type": "code",
   "execution_count": 30,
   "id": "7e1f266e-58bf-4ac7-83db-b750feaa3917",
   "metadata": {},
   "outputs": [],
   "source": [
    "# saving array 'a' to a text \n",
    "\n",
    "np.savetxt('array_a.txt', a)"
   ]
  },
  {
   "cell_type": "code",
   "execution_count": 31,
   "id": "b5d9afde-fbba-483d-8e1b-ebff32287502",
   "metadata": {},
   "outputs": [
    {
     "name": "stdout",
     "output_type": "stream",
     "text": [
      "Loaded array a from text file: [1. 2. 3. 4. 5.]\n"
     ]
    }
   ],
   "source": [
    "# Loading the array from the text file\n",
    "loaded_a_txt = np.loadtxt('array_a.txt')\n",
    "print(\"Loaded array a from text file:\", loaded_a_txt)"
   ]
  },
  {
   "cell_type": "code",
   "execution_count": null,
   "id": "a5b7c239-7a2b-403a-8fa3-789eb078d7b4",
   "metadata": {},
   "outputs": [],
   "source": []
  }
 ],
 "metadata": {
  "kernelspec": {
   "display_name": "Python 3 (ipykernel)",
   "language": "python",
   "name": "python3"
  },
  "language_info": {
   "codemirror_mode": {
    "name": "ipython",
    "version": 3
   },
   "file_extension": ".py",
   "mimetype": "text/x-python",
   "name": "python",
   "nbconvert_exporter": "python",
   "pygments_lexer": "ipython3",
   "version": "3.9.18"
  }
 },
 "nbformat": 4,
 "nbformat_minor": 5
}
